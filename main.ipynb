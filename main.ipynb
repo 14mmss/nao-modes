{
 "cells": [
  {
   "cell_type": "code",
   "execution_count": null,
   "metadata": {},
   "outputs": [],
   "source": [
    "# Robot Init\n",
    "from naoqi import ALProxy\n",
    "# Please connect to the robot and fill in the missing data\n",
    "motion = ALProxy(\"ALMotion\", \"IP\", PORT)\n",
    "posture = ALProxy(\"ALRobotPosture\", \"IP\", PORT)\n",
    "leds = ALProxy(\"ALLeds\",\"IP\", PORT)\n",
    "memory = ALProxy(\"ALMemory\",\"IP\", PORT)"
   ]
  },
  {
   "cell_type": "code",
   "execution_count": null,
   "metadata": {},
   "outputs": [],
   "source": [
    "# Set robot's stiffness\n",
    "motion.setStiffnesses(\"Body\", 1.0)"
   ]
  },
  {
   "cell_type": "code",
   "execution_count": null,
   "metadata": {},
   "outputs": [],
   "source": [
    "# Rest\n",
    "motion.rest()"
   ]
  },
  {
   "cell_type": "code",
   "execution_count": null,
   "metadata": {},
   "outputs": [],
   "source": [
    "# Set robot's posture to standing\n",
    "posture.goToPosture(\"StandInit\", 1.0)"
   ]
  },
  {
   "cell_type": "code",
   "execution_count": null,
   "metadata": {},
   "outputs": [],
   "source": [
    "# Balancing functions (NAO ONLY)\n",
    "\n",
    "# Activates Whole Body Balancer\n",
    "isEnabled  = True\n",
    "motion.wbEnable(isEnabled)\n",
    "\n",
    "# Legs are constrained in a plane (feet stay flat on the ground)\n",
    "stateName  = \"Plane\"\n",
    "supportLeg = \"Legs\"\n",
    "motion.wbFootState(stateName, supportLeg)"
   ]
  },
  {
   "cell_type": "code",
   "execution_count": null,
   "metadata": {},
   "outputs": [],
   "source": [
    "# Select type of movement\n",
    "# Available types: Normal, Reflect, Reflect Negative, One Joint, Smaller, Bigger, Faster, Slower\n",
    "\n",
    "moveType = \"Normal\""
   ]
  },
  {
   "cell_type": "code",
   "execution_count": null,
   "metadata": {},
   "outputs": [],
   "source": [
    "# Initialize input\n",
    "# Feel free to add artificial input for the robot\n",
    "names = []\n",
    "angleList = []\n",
    "timeList = []\n",
    "# isAbsolute is always set to true, so movement is progressive.\n",
    "isAbsolute = True"
   ]
  },
  {
   "cell_type": "code",
   "execution_count": null,
   "metadata": {},
   "outputs": [],
   "source": [
    "# Function that redirects to which mode will be used\n",
    "def move(moveType, names, angleList, timeList, isAbsolute):\n",
    "    if moveType == \"Normal\":\n",
    "        moveNormal(names, angleList, timeList, isAbsolute)\n",
    "    if moveType == \"Reflect\":\n",
    "        moveReflect(names, angleList, timeList, isAbsolute)\n",
    "    if moveType == \"One Joint\":\n",
    "        moveOneJoint(names, angleList, timeList, isAbsolute)\n",
    "    if moveType == \"Reflect Negative\":\n",
    "        moveNegativeReflect(names, angleList, timeList, isAbsolute)\n",
    "    if moveType == \"Smaller\":\n",
    "        moveSmaller(names, angleList, timeList, isAbsolute)\n",
    "    if moveType == \"Bigger\":\n",
    "        moveBigger(names, angleList, timeList, isAbsolute)\n",
    "    if moveType == \"Slower\":\n",
    "        moveSlower(names, angleList, timeList, isAbsolute)\n",
    "    if moveType == \"Faster\":\n",
    "        moveFaster(names, angleList, timeList, isAbsolute)\n",
    "\n",
    "# HEADS UP: These functions are written to use artificial input optimally, hence, a list of names, angles, and time. Due to this, the\n",
    "# function used is angleInterpolation instead of setAngle. To use setAngle, just modify the input to take one name and angle at a time\n",
    "# while removing the time function. This is optimal for real-time input. Both functions are throughly documented in the NAOqi site."
   ]
  },
  {
   "cell_type": "code",
   "execution_count": null,
   "metadata": {},
   "outputs": [],
   "source": [
    "# This mode makes it so all movement is normal.\n",
    "def moveNormal(names, angleList, timeList, isAbsolute):\n",
    "    if moveType == \"Normal\":\n",
    "        motion.angleInterpolation(names, angleList, timeList, isAbsolute)"
   ]
  },
  {
   "cell_type": "code",
   "execution_count": null,
   "metadata": {},
   "outputs": [],
   "source": [
    "# This mode gets the name of the opposing joints\n",
    "def getOpposite(names):\n",
    "    new_names = []\n",
    "    for name in names:\n",
    "        if name[0] == 'L':\n",
    "            new_names.append('R'+name[1:])\n",
    "        elif name[0] == 'R':\n",
    "            new_names.append('L'+name[1:])\n",
    "        else:\n",
    "            new_names.append(name)\n",
    "    return new_names"
   ]
  },
  {
   "cell_type": "code",
   "execution_count": null,
   "metadata": {},
   "outputs": [],
   "source": [
    "# This mode makes it so all movement is reflected.\n",
    "def moveReflect(names, angleList, timeList, isAbsolute):\n",
    "    if moveType == \"Reflect\":\n",
    "        names = getOpposite(names)\n",
    "        motion.angleInterpolation(names, angleList, timeList, isAbsolute)"
   ]
  },
  {
   "cell_type": "code",
   "execution_count": null,
   "metadata": {},
   "outputs": [],
   "source": [
    "# This gets the negative of opposite angles\n",
    "def getOppositeNegative(angleList):\n",
    "    new_angles = []\n",
    "    for angle in angleList:\n",
    "        new_angles.append(-angle)\n",
    "    return new_angles"
   ]
  },
  {
   "cell_type": "code",
   "execution_count": null,
   "metadata": {},
   "outputs": [],
   "source": [
    "# This mode makes it so all movement is reflected both horizontally and vertically.\n",
    "def moveNegativeReflect(names, angleList, timeList, isAbsolute):\n",
    "    if moveType == \"Reflect Negative\":\n",
    "        names = getOpposite(names)\n",
    "        angleList = getOppositeNegative(angleList)\n",
    "        motion.angleInterpolation(names, angleList, timeList, isAbsolute)"
   ]
  },
  {
   "cell_type": "code",
   "execution_count": null,
   "metadata": {},
   "outputs": [],
   "source": [
    "# This mode makes it so all movement is done in one joint. By default, the Head Yaw joint is selected. \n",
    "def moveOneJoint(names, angleList, timeList, isAbsolute):\n",
    "    if moveType == \"One Joint\":\n",
    "        # Select desired joint on the human\n",
    "        human_joint = \"HeadYaw\"\n",
    "        # Select desired joint on the robot\n",
    "        robot_joint = \"RShoulderPitch\"\n",
    "        indexes = []\n",
    "        newAngleList = []\n",
    "        start = -1\n",
    "        for name in names:\n",
    "            if name == human_joint:\n",
    "                index = names.index(name)\n",
    "                indexes.append(index)\n",
    "                start+=1\n",
    "        for index in indexes:\n",
    "            for angle in angleList:\n",
    "                a = angleList[index]\n",
    "                newAngleList.append(a)\n",
    "        motion.angleInterpolation(robot_joint, newAngleList, timeList, isAbsolute)"
   ]
  },
  {
   "cell_type": "code",
   "execution_count": null,
   "metadata": {},
   "outputs": [],
   "source": [
    "# This mode makes it so all movement is constricted\n",
    "def moveSmaller(names, angleList, timeList, isAbsolute):\n",
    "    if moveType == \"Smaller\":\n",
    "        newAngleList = []\n",
    "        for angle in angleList:\n",
    "            size = len(angle)\n",
    "            for a in angle:\n",
    "                newAngle = a*0.35\n",
    "                newAngleList.append(newAngle)\n",
    "        newAngleList = [newAngleList[i:i+size] for i in range(0, len(newAngleList), size)]\n",
    "        motion.angleInterpolation(names, newAngleList, timeList, isAbsolute)"
   ]
  },
  {
   "cell_type": "code",
   "execution_count": null,
   "metadata": {},
   "outputs": [],
   "source": [
    "# This mode makes it so all movement is expanded.\n",
    "def moveBigger(names, angleList, timeList, isAbsolute):\n",
    "    if moveType == \"Bigger\":\n",
    "        newAngleList = []\n",
    "        for angle in angleList:\n",
    "            size = len(angle)\n",
    "            for a in angle:\n",
    "                newAngle = a*1.1\n",
    "                newAngleList.append(newAngle)\n",
    "        newAngleList = [newAngleList[i:i+size] for i in range(0, len(newAngleList), size)]\n",
    "        motion.angleInterpolation(names, newAngleList, timeList, isAbsolute)"
   ]
  },
  {
   "cell_type": "code",
   "execution_count": null,
   "metadata": {},
   "outputs": [],
   "source": [
    "# This mode makes it so all movement is slower.\n",
    "def moveSlower(names, angleList, timeList, isAbsolute):\n",
    "    if moveType == \"Slower\":\n",
    "        newTimeList = []\n",
    "        for time in timeList:\n",
    "            size = len(time)\n",
    "            for t in time:\n",
    "                newTime = t*2\n",
    "                newTimeList.append(newTime)\n",
    "        newTimeList = [newTimeList[i:i+size] for i in range(0, len(newTimeList), size)]\n",
    "        motion.angleInterpolation(names, angleList, newTimeList, isAbsolute)"
   ]
  },
  {
   "cell_type": "code",
   "execution_count": null,
   "metadata": {},
   "outputs": [],
   "source": [
    "# This mode makes it so all movement is faster.\n",
    "def moveFaster(names, angleList, timeList, isAbsolute):\n",
    "    if moveType == \"Faster\":\n",
    "        newTimeList = []\n",
    "        for time in timeList:\n",
    "            size = len(time)\n",
    "            for t in time:\n",
    "                newTime = t*0.7\n",
    "                newTimeList.append(newTime)\n",
    "        newTimeList = [newTimeList[i:i+size] for i in range(0, len(newTimeList), size)]\n",
    "        motion.angleInterpolation(names, angleList, newTimeList, isAbsolute)"
   ]
  },
  {
   "cell_type": "code",
   "execution_count": null,
   "metadata": {},
   "outputs": [],
   "source": [
    "move(moveType, names, angleList, timeList, isAbsolute)"
   ]
  }
 ],
 "metadata": {
  "kernelspec": {
   "display_name": "Python 2",
   "language": "python",
   "name": "python2"
  },
  "language_info": {
   "codemirror_mode": {
    "name": "ipython",
    "version": 2
   },
   "file_extension": ".py",
   "mimetype": "text/x-python",
   "name": "python",
   "nbconvert_exporter": "python",
   "pygments_lexer": "ipython2",
   "version": "2.7.17"
  }
 },
 "nbformat": 4,
 "nbformat_minor": 2
}
